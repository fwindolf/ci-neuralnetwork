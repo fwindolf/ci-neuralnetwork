{
 "cells": [
  {
   "cell_type": "markdown",
   "metadata": {},
   "source": [
    "# Neural Network"
   ]
  },
  {
   "cell_type": "code",
   "execution_count": 4,
   "metadata": {
    "collapsed": false
   },
   "outputs": [],
   "source": [
    "import numpy as np\n",
    "import matplotlib.pyplot as plt\n",
    "%matplotlib inline"
   ]
  },
  {
   "cell_type": "markdown",
   "metadata": {},
   "source": [
    "## Read Data"
   ]
  },
  {
   "cell_type": "code",
   "execution_count": 5,
   "metadata": {
    "collapsed": false
   },
   "outputs": [],
   "source": [
    "input_file = \"testinput11B.txt\"\n",
    "output_file = \"testOutput11B.txt\"\n",
    "f_in = np.array([line.rstrip('\\n').split(',') for line in open(input_file, 'r')])  \n",
    "X = []\n",
    "Z = []\n",
    "C = []\n",
    "CZ = []\n",
    "\n",
    "read_classification = False\n",
    "for data in f_in:\n",
    "    if(read_classification):\n",
    "        C.append((float(data[0]), float(data[1])))\n",
    "    else:\n",
    "        if(data[0] == '0' and data[1] == '0'):\n",
    "            read_classification = True\n",
    "        else:\n",
    "            X.append((float(data[0]), float(data[1])))\n",
    "            Z.append((float(data[2], )))\n",
    "            \n",
    "f_out = np.array([line.rstrip('\\n') for line in open(output_file, 'r')])\n",
    "for data in f_out:\n",
    "    CZ.append(float(data))\n",
    "    \n",
    "X = np.array(X)\n",
    "Z = np.array([Z]).T\n",
    "C = np.array(C)\n",
    "CZ = np.array([CZ]).T"
   ]
  },
  {
   "cell_type": "markdown",
   "metadata": {},
   "source": [
    "## Normalization"
   ]
  },
  {
   "cell_type": "code",
   "execution_count": 6,
   "metadata": {
    "collapsed": false
   },
   "outputs": [],
   "source": [
    "def normalize(X, C):\n",
    "    # zero mean\n",
    "    # print(X, C)\n",
    "    means = []\n",
    "    for column in np.concatenate((X, C), axis=0).T:\n",
    "        means.append(np.mean(column))\n",
    "        \n",
    "    X -= means\n",
    "    C -= means\n",
    "    #print(means)\n",
    "    #print(X, C)\n",
    "    \n",
    "    # from -1 to 1\n",
    "    norms = []\n",
    "    for column in np.concatenate((X, C), axis=0).T:\n",
    "        min_ = abs(np.amin(column))\n",
    "        max_ = abs(np.amax(column))\n",
    "        norms.append(max(min_, max_))\n",
    "    #print(norms)\n",
    "    #print(X/norms, C/norms)\n",
    "    return X / norms, C / norms\n",
    "    \n",
    "X, C = normalize(X, C)"
   ]
  },
  {
   "cell_type": "markdown",
   "metadata": {},
   "source": [
    "## Paint Data"
   ]
  },
  {
   "cell_type": "code",
   "execution_count": 7,
   "metadata": {
    "collapsed": false
   },
   "outputs": [
    {
     "data": {
      "image/png": "[encoded data removed]",
      "text/plain": [
       "<matplotlib.figure.Figure at 0x209c70f5828>"
      ]
     },
     "metadata": {},
     "output_type": "display_data"
    }
   ],
   "source": [
    "plt.figure()\n",
    "i = 0\n",
    "for z in Z:\n",
    "    if z[0] > 0:\n",
    "        plt.scatter(X.T[0, i], X.T[1, i], color=\"green\")\n",
    "    else:\n",
    "        plt.scatter(X.T[0, i], X.T[1, i], color=\"blue\")\n",
    "        \n",
    "    i += 1"
   ]
  },
  {
   "cell_type": "markdown",
   "metadata": {},
   "source": [
    "## Activation Functions"
   ]
  },
  {
   "cell_type": "code",
   "execution_count": 8,
   "metadata": {
    "collapsed": false
   },
   "outputs": [],
   "source": [
    "def relu(X, derived=False):\n",
    "    if(derived):\n",
    "        return 1.0 * np.greater(X, 0)\n",
    "    else:\n",
    "        return np.maximum(X, 0, X)\n",
    "    \n",
    "def tanh(X, derived=False):\n",
    "    if(derived):\n",
    "        return 1.1439* (1 - np.square(np.tanh(2/3 * X)))\n",
    "    else:\n",
    "        return 1.7159 * np.tanh(2/3 * X)\n",
    "    \n",
    "def sigmoid(X, derived=False):\n",
    "    if(derived):\n",
    "        return X * ( 1 - X)\n",
    "    else:\n",
    "        return (1 / (1 + np.exp(-(X))))\n",
    "    "
   ]
  },
  {
   "cell_type": "markdown",
   "metadata": {},
   "source": [
    "## Network Class"
   ]
  },
  {
   "cell_type": "code",
   "execution_count": 9,
   "metadata": {
    "collapsed": false
   },
   "outputs": [],
   "source": [
    "class NeuralNetwork:\n",
    "    def __init__(self, hidden_layers=1, neurons=[3, 4 ,1], activation_function=tanh, learning_rate=0.01, momentum=0):\n",
    "        assert(len(neurons) == hidden_layers + 2)\n",
    "        self.hidden_layers = hidden_layers\n",
    "        self.activation_function = activation_function\n",
    "        self.neurons = neurons\n",
    "        self.learning_rate = learning_rate\n",
    "        self.momentum = momentum\n",
    "        self.weights = [2 * np.random.random((neurons[i],neurons[i+1])) - 1 for i in range(0, hidden_layers + 1)]\n",
    "        self.outputs = [np.zeros(neurons[i]) for i in range(0, hidden_layers + 2)]\n",
    "        self.deltas = [np.zeros(neurons[i]) for i in range(0, hidden_layers + 2)]\n",
    "        self.t_error = []\n",
    "        self.error = []\n",
    "        self.best_weights = []\n",
    "        self.best_error = np.inf\n",
    "        \n",
    "    def train(self, X, Z, split=0.67, epochs=20000):\n",
    "        X = self.__append_bias(X)\n",
    "        self.t_error = []\n",
    "        self.error = []\n",
    "        self.update = [0 for i in range(0, self.hidden_layers + 1)]\n",
    "        self.last_update = self.update\n",
    "        XT, ZT, XV, ZV = self.__split(X, Z, split)\n",
    "        for i in range(epochs):\n",
    "            self.__shuffle(XT, ZT)\n",
    "            #print(\"data:\\n\", XT)\n",
    "            #print(\"target:\\n\", ZT)            \n",
    "            self.__forward(XT)\n",
    "            #print(\"l1:\\n\", self.outputs[1])\n",
    "            #print(\"l2:\\n\", self.outputs[2])\n",
    "            self.__backwards(ZT)\n",
    "            self.__update_weights()\n",
    "            self.__error(XV, ZV)\n",
    "            self.__save_weights()\n",
    "            #if(i % (epochs/10) == 0):\n",
    "                #print(\"VE:\", self.error[-1])\n",
    "                #print(\"TE:\", self.t_error[-1])\n",
    "            \n",
    "            if(self.error[-1] == 0.0):\n",
    "                break\n",
    "            #elif(len(self.error) > 2 and self.error[-2] * 1.05 <= self.error[-1]):\n",
    "            #    break\n",
    "        \n",
    "        self.__restore_weights()\n",
    "        \n",
    "        \n",
    "    def __append_bias(self, X):\n",
    "        X_ = np.ones((X.shape[0], X.shape[1] + 1))\n",
    "        X_[:,:-1] = X\n",
    "        return X_\n",
    "        \n",
    "    def __shuffle(self, X, Z):\n",
    "        ids = list(range(len(X)))\n",
    "        np.random.shuffle(ids)\n",
    "        return np.asarray([X[id, :] for id in ids]), np.asarray([Z[id] for id in ids])\n",
    "    \n",
    "    def __split(self, X, Z, split):\n",
    "        X, Z = self.__shuffle(X, Z)\n",
    "        s = int(len(X) * split)\n",
    "        return X[:s], Z[:s], X[s:], Z[s:]\n",
    "\n",
    "    def __forward(self, X):\n",
    "        self.outputs[0] = X\n",
    "        for i in range(0, self.hidden_layers + 1):            \n",
    "            self.outputs[i + 1] = self.activation_function(np.dot(self.outputs[i], self.weights[i]))\n",
    "    \n",
    "    def __backwards(self, Z):\n",
    "        self.deltas[self.hidden_layers + 1] = (Z - self.outputs[self.hidden_layers + 1]) * self.activation_function(self.outputs[self.hidden_layers + 1], True)\n",
    "        self.t_error.append(np.mean(np.abs(Z - self.outputs[self.hidden_layers + 1])))\n",
    "        #print(\"l2_delta:\\n\", self.deltas[self.hidden_layers + 1])\n",
    "        for i in reversed(range(1, self.hidden_layers + 1)): # not for layer 0\n",
    "            self.deltas[i] = self.deltas[i+1].dot(self.weights[i].T) * self.activation_function(self.outputs[i], True)\n",
    "            #print(\"l1_delta:\\n\", self.deltas[i])\n",
    "       \n",
    "            \n",
    "    def __update_weights(self):\n",
    "        for i in reversed(range(0, self.hidden_layers + 1)):\n",
    "            #print(\"syn\",i, \"_update:\\n\",  self.outputs[i].T,\"\\n\", self.deltas[i+1], \"\\n\", self.outputs[i].T.dot(self.deltas[i+1]))\n",
    "            self.last_update[i] = self.update[i]\n",
    "            self.update[i] = self.outputs[i].T.dot(self.deltas[i+1])            \n",
    "            self.weights[i] += self.learning_rate * self.update[i] - self.momentum * self.last_update[i]\n",
    "            \n",
    "    def __save_weights(self):\n",
    "        if(self.error[-1] < self.best_error):\n",
    "            self.best_v_error = self.error[-1]\n",
    "            self.best_weights = self.weights\n",
    "        \n",
    "    def __restore_weights(self):\n",
    "        self.weights = self.best_weights\n",
    "            \n",
    "    def __error(self, X, Z):\n",
    "        self.__forward(X)\n",
    "        self.error.append(np.sum(np.square(Z - self.outputs[self.hidden_layers + 1])))\n",
    "    \n",
    "    def test(self, C, CZ):\n",
    "        C = self.__append_bias(C)\n",
    "        self.__forward(C)\n",
    "        return str(100 * np.sum(np.sign(self.outputs[self.hidden_layers + 1]) == CZ) / len(C)) + \"%\"\n",
    "    \n",
    "    def plot_error(self):\n",
    "        plt.figure()\n",
    "        plt.plot(np.log(self.t_error), \"blue\", label=\"Training Error\");\n",
    "        plt.plot(np.log(self.error),\"green\", label=\"Validation Error\");\n",
    "        plt.legend(loc=0)\n",
    "        \n",
    "    def get_boundary(self):\n",
    "        X = []\n",
    "        for i in np.arange(-1,1,0.02):\n",
    "            for j in np.arange(-1,1, 0.02):\n",
    "                X.append([i, j, 1])\n",
    "        X = np.array(X)        \n",
    "        self.__forward(X)\n",
    "        return X, self.outputs[self.hidden_layers + 1]\n",
    "    \n"
   ]
  },
  {
   "cell_type": "markdown",
   "metadata": {},
   "source": [
    "## Create Network and train it"
   ]
  },
  {
   "cell_type": "code",
   "execution_count": 10,
   "metadata": {
    "collapsed": false
   },
   "outputs": [],
   "source": [
    "n = NeuralNetwork(hidden_layers=1, neurons=[3, 10, 1], learning_rate=0.001, activation_function=tanh)"
   ]
  },
  {
   "cell_type": "code",
   "execution_count": 11,
   "metadata": {
    "collapsed": false
   },
   "outputs": [],
   "source": [
    "n.train(X, Z, epochs=20000)"
   ]
  },
  {
   "cell_type": "markdown",
   "metadata": {},
   "source": [
    "## Plot the resulting training and validation error"
   ]
  },
  {
   "cell_type": "code",
   "execution_count": 12,
   "metadata": {
    "collapsed": false,
    "scrolled": true
   },
   "outputs": [
    {
     "data": {
      "image/png": "[encoded data removed]",
      "text/plain": [
       "<matplotlib.figure.Figure at 0x209c712cfd0>"
      ]
     },
     "metadata": {},
     "output_type": "display_data"
    }
   ],
   "source": [
    "n.plot_error()"
   ]
  },
  {
   "cell_type": "markdown",
   "metadata": {},
   "source": [
    "## Test the classification data against the provided output file"
   ]
  },
  {
   "cell_type": "code",
   "execution_count": 13,
   "metadata": {
    "collapsed": false
   },
   "outputs": [
    {
     "data": {
      "text/plain": [
       "'100.0%'"
      ]
     },
     "execution_count": 13,
     "metadata": {},
     "output_type": "execute_result"
    }
   ],
   "source": [
    "n.test(C, CZ)"
   ]
  },
  {
   "cell_type": "markdown",
   "metadata": {},
   "source": [
    "## Plot the decision boundary\n",
    "\n",
    "This takes a while as a mesh of datapoints and their classification is plotted in the background"
   ]
  },
  {
   "cell_type": "code",
   "execution_count": 17,
   "metadata": {
    "collapsed": false
   },
   "outputs": [
    {
     "data": {
      "image/png": "[encoded data removed]",
      "text/plain": [
       "<matplotlib.figure.Figure at 0x209d2607a58>"
      ]
     },
     "metadata": {},
     "output_type": "display_data"
    }
   ],
   "source": [
    "plt.figure()\n",
    "a, b = n.get_boundary()\n",
    "for i, cb in enumerate(b):\n",
    "    if(cb[0] > 0):\n",
    "        plt.scatter(a.T[0, i], a.T[1, i], color=\"green\", alpha=0.1, edgecolors='none', marker='s')\n",
    "    else:\n",
    "        plt.scatter(a.T[0, i], a.T[1, i], color=\"blue\", alpha=0.1, edgecolors='none', marker='s')\n",
    "    \n",
    "for i, z in enumerate(CZ):\n",
    "    if z[0] > 0:\n",
    "        plt.scatter(C.T[0, i], C.T[1, i], color=\"green\")\n",
    "    else:\n",
    "        plt.scatter(C.T[0, i], C.T[1, i], color=\"blue\")"
   ]
  },
  {
   "cell_type": "code",
   "execution_count": null,
   "metadata": {
    "collapsed": true
   },
   "outputs": [],
   "source": []
  }
 ],
 "metadata": {
  "kernelspec": {
   "display_name": "Python 3",
   "language": "python",
   "name": "python3"
  },
  "language_info": {
   "codemirror_mode": {
    "name": "ipython",
    "version": 3
   },
   "file_extension": ".py",
   "mimetype": "text/x-python",
   "name": "python",
   "nbconvert_exporter": "python",
   "pygments_lexer": "ipython3",
   "version": "3.5.2"
  }
 },
 "nbformat": 4,
 "nbformat_minor": 2
}
